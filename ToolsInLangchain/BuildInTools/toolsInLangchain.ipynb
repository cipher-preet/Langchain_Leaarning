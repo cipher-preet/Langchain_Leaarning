{
 "cells": [
  {
   "cell_type": "code",
   "execution_count": null,
   "id": "1f96d9db",
   "metadata": {},
   "outputs": [],
   "source": [
    "# %pip install langchain langchain-core langchain-community pydantic duckduckgo-search langchain_experimental\n",
    "\n",
    "from dotenv import load_dotenv\n",
    "\n",
    "\n",
    "\n",
    "load_dotenv()\n",
    "\n",
    "\n",
    "import os\n",
    "os.environ[\"OPENAI_API_KEY\"] = \"*****************************************************************************************************************************\""
   ]
  },
  {
   "cell_type": "code",
   "execution_count": 2,
   "id": "3202553f",
   "metadata": {},
   "outputs": [],
   "source": [
    "## Built-in Tool - DuckDuckGo Search"
   ]
  },
  {
   "cell_type": "code",
   "execution_count": 4,
   "id": "51b45fe0",
   "metadata": {},
   "outputs": [
    {
     "name": "stdout",
     "output_type": "stream",
     "text": [
      "SL vs BAN 2025, Sri Lanka vs Bangladesh Match Report: Mathews fell for 39 in his farewell Test, even as Chandimal's fifty helped SL reduce deficit to 127 ... Today. 10:00 AM. ... Live Scores ... Sri Lanka vs Bangladesh Live Score, 1st Test Day 3 (Sri Lanka National Cricket Team vs Bangladesh National Cricket Team): Mushfiqur Rahim posted a masterful 163 Wednesday as Bangladesh piled up 484 for nine on a rain-curtailed Day 2 of the first cricket Test against Sri Lanka.Mushfiqur batted for more than eight hours and faced 350 deliveries in innings that blended stout defense with the ... Sri Lanka (SL) vs Bangladesh (BAN), 1st Test Day 4 Live Score: Sri Lanka resumed Day 4 at 368 for 4 in its first innings of the opening Test against Bangladesh on Thursday. That left the home team 127 runs adrift of Bangladesh, which had piled up a total of 495 all out. Sri Lanka : 368/4(93.0) | SL vs BAN 1st Test Match - Live Cricket Score, Full Scorecard:Catch the Live Cricket Score of Sri Lanka vs Bangladesh along with Match Result, Scorecard Updates, Match Summary and Report at The Indian Express. ... Considering the amount of time lost today and rain in the forecast over the next three days, they might ... Follow SL 368/4 (93) vs BAN 495 (Kamindu Mendis 37(56) Dhananjaya de Silva 17(26)) | Sri Lanka vs Bangladesh, 1st Test, Tue, Jun 17, Bangladesh tour of Sri Lanka, 2025 with live Cricket score, ball by ball commentary updates on Cricbuzz\n"
     ]
    }
   ],
   "source": [
    "from langchain_community.tools import DuckDuckGoSearchRun\n",
    "\n",
    "search_tool = DuckDuckGoSearchRun()\n",
    "\n",
    "results = search_tool.invoke('Todays what is the score of shrilanka and bangladesh')\n",
    "\n",
    "print(results)"
   ]
  },
  {
   "cell_type": "code",
   "execution_count": 9,
   "id": "a419ae92",
   "metadata": {},
   "outputs": [
    {
     "name": "stdout",
     "output_type": "stream",
     "text": [
      "duckduckgo_search\n",
      "A wrapper around DuckDuckGo Search. Useful for when you need to answer questions about current events. Input should be a search query.\n",
      "{'query': {'description': 'search query to look up', 'title': 'Query', 'type': 'string'}}\n"
     ]
    }
   ],
   "source": [
    "print(search_tool.name)\n",
    "print(search_tool.description)\n",
    "print(search_tool.args)"
   ]
  },
  {
   "cell_type": "code",
   "execution_count": 10,
   "id": "74780dc9",
   "metadata": {},
   "outputs": [],
   "source": [
    "## Built-in Tool - Shell Tool"
   ]
  },
  {
   "cell_type": "code",
   "execution_count": 12,
   "id": "fbf9bfd2",
   "metadata": {},
   "outputs": [
    {
     "name": "stdout",
     "output_type": "stream",
     "text": [
      "Executing command:\n",
      " ipconfig\n",
      "\n",
      "Windows IP Configuration\n",
      "\n",
      "\n",
      "Ethernet adapter Ethernet:\n",
      "\n",
      "   Media State . . . . . . . . . . . : Media disconnected\n",
      "   Connection-specific DNS Suffix  . : domain.name\n",
      "\n",
      "Wireless LAN adapter Local Area Connection* 9:\n",
      "\n",
      "   Media State . . . . . . . . . . . : Media disconnected\n",
      "   Connection-specific DNS Suffix  . : \n",
      "\n",
      "Wireless LAN adapter Local Area Connection* 10:\n",
      "\n",
      "   Media State . . . . . . . . . . . : Media disconnected\n",
      "   Connection-specific DNS Suffix  . : \n",
      "\n",
      "Wireless LAN adapter Wi-Fi:\n",
      "\n",
      "   Connection-specific DNS Suffix  . : \n",
      "   Link-local IPv6 Address . . . . . : fe80::692:2fc3:4948:4f65%5\n",
      "   IPv4 Address. . . . . . . . . . . : 192.168.100.43\n",
      "   Subnet Mask . . . . . . . . . . . : 255.255.255.0\n",
      "   Default Gateway . . . . . . . . . : 192.168.100.1\n",
      "\n",
      "Ethernet adapter Bluetooth Network Connection:\n",
      "\n",
      "   Media State . . . . . . . . . . . : Media disconnected\n",
      "   Connection-specific DNS Suffix  . : \n",
      "\n"
     ]
    },
    {
     "name": "stderr",
     "output_type": "stream",
     "text": [
      "c:\\Users\\PREET\\OneDrive\\Desktop\\LangChainModels\\LangchainTextSplitter\\env\\Lib\\site-packages\\langchain_community\\tools\\shell\\tool.py:33: UserWarning: The shell tool has no safeguards by default. Use at your own risk.\n",
      "  warnings.warn(\n"
     ]
    }
   ],
   "source": [
    "from langchain_community.tools import ShellTool\n",
    "\n",
    "shell_tool = ShellTool()\n",
    "\n",
    "results = shell_tool.invoke('ipconfig')\n",
    "\n",
    "print(results)"
   ]
  },
  {
   "cell_type": "code",
   "execution_count": null,
   "id": "a4931f54",
   "metadata": {},
   "outputs": [],
   "source": []
  }
 ],
 "metadata": {
  "kernelspec": {
   "display_name": "env",
   "language": "python",
   "name": "python3"
  },
  "language_info": {
   "codemirror_mode": {
    "name": "ipython",
    "version": 3
   },
   "file_extension": ".py",
   "mimetype": "text/x-python",
   "name": "python",
   "nbconvert_exporter": "python",
   "pygments_lexer": "ipython3",
   "version": "3.12.4"
  }
 },
 "nbformat": 4,
 "nbformat_minor": 5
}

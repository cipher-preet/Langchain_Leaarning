{
 "cells": [
  {
   "cell_type": "code",
   "execution_count": null,
   "id": "8a2b4e3d",
   "metadata": {},
   "outputs": [],
   "source": [
    "import os\n",
    "os.environ[\"OPENAI_API_KEY\"] = \"**************************************************************************\""
   ]
  },
  {
   "cell_type": "code",
   "execution_count": 30,
   "id": "7cf4e476",
   "metadata": {},
   "outputs": [],
   "source": [
    "# %pip install -q langchain-openai langchain-community langchain-core requests duckduckgo-search\n",
    "\n",
    "from langchain_community.tools import BraveSearch"
   ]
  },
  {
   "cell_type": "code",
   "execution_count": 31,
   "id": "e6d0f8c5",
   "metadata": {},
   "outputs": [],
   "source": [
    "from langchain_openai import ChatOpenAI\n",
    "from langchain_core.tools import tool\n",
    "import requests"
   ]
  },
  {
   "cell_type": "code",
   "execution_count": 32,
   "id": "8c25dda4",
   "metadata": {},
   "outputs": [],
   "source": [
    "from langchain_community.tools import DuckDuckGoSearchRun\n",
    "\n",
    "search_tool = DuckDuckGoSearchRun()\n",
    "\n",
    "\n"
   ]
  },
  {
   "cell_type": "code",
   "execution_count": 33,
   "id": "52b912c7",
   "metadata": {},
   "outputs": [],
   "source": [
    "llm = ChatOpenAI()"
   ]
  },
  {
   "cell_type": "code",
   "execution_count": 34,
   "id": "41fb023a",
   "metadata": {},
   "outputs": [],
   "source": [
    "from langchain.agents import create_react_agent, AgentExecutor\n",
    "from langchain import hub"
   ]
  },
  {
   "cell_type": "code",
   "execution_count": 35,
   "id": "c49edf3f",
   "metadata": {},
   "outputs": [
    {
     "name": "stderr",
     "output_type": "stream",
     "text": [
      "c:\\Users\\PREET\\OneDrive\\Desktop\\LangChainModels\\LangchainTextSplitter\\env\\Lib\\site-packages\\langsmith\\client.py:272: LangSmithMissingAPIKeyWarning: API key must be provided when using hosted LangSmith API\n",
      "  warnings.warn(\n"
     ]
    }
   ],
   "source": [
    "# Step 2: Pull the ReAct prompt from LangChain Hub\n",
    "prompt = hub.pull(\"hwchase17/react\")  # pulls the standard ReAct agent prompt\n"
   ]
  },
  {
   "cell_type": "code",
   "execution_count": 36,
   "id": "d69f275b",
   "metadata": {},
   "outputs": [],
   "source": [
    "# Step 3: Create the ReAct agent manually with the pulled prompt\n",
    "agent = create_react_agent(\n",
    "    llm=llm,\n",
    "    tools=[search_tool],\n",
    "    prompt=prompt\n",
    ")"
   ]
  },
  {
   "cell_type": "code",
   "execution_count": 37,
   "id": "0aa0d09e",
   "metadata": {},
   "outputs": [],
   "source": [
    "# Step 4: Wrap it with AgentExecutor\n",
    "agent_executor = AgentExecutor(\n",
    "    agent=agent,\n",
    "    tools=[search_tool],\n",
    "    verbose=True\n",
    ")"
   ]
  },
  {
   "cell_type": "code",
   "execution_count": 38,
   "id": "83ec5921",
   "metadata": {},
   "outputs": [
    {
     "name": "stdout",
     "output_type": "stream",
     "text": [
      "\n",
      "\n",
      "\u001b[1m> Entering new AgentExecutor chain...\u001b[0m\n",
      "\u001b[32;1m\u001b[1;3mI should use the duckduckgo_search tool to find the live score of the England vs India 1st Test match.\n",
      "Action: duckduckgo_search\n",
      "Action Input: England vs India 1st Test live score\u001b[0m\u001b[36;1m\u001b[1;3m18:34 Local Time, 17:34 GMT, 23:04 IST: A genie has granted all of India's wishes or so it would seem because after what's transpired on Day 1 of this Test. The openers, rock-solid after being asked to bat first. The surface, docile after an initial threat. A commanding century from Jaiswal and perhaps most importantly, a composed hundred from Shubman Gill on captaincy debut. England take on India in the first of the five-match Test series from Friday (June 20) at Headingley: find all match updates including live score, commentary, toss updates and more from the ENG vs IND game here. ... ENG vs IND first Test, live score: Playing XI, toss updates and where to watch live. Jun 20, 2025 2 minute read England vs India ... India vs England live score, 1st Test: The transition in the Indian cricket team starts today (20 June, Friday) as a young team led by new captain Shubman Gill takes on England in the first Test of the five-match Test series at the Headingley Stadium in Leeds. Only three Indian captains have won a Test series in India and Gill is looking to ... Score, text commentary, video highlights and analysis from Headingley as England begin a five-Test series against India; watch live on Sky Sports Cricket or stream with NOW; teams are playing for ... Follow our live cricket update for in-depth match coverage and exciting highlights from England vs India 1st Test at Leeds on ESPNcricinfo.\u001b[0m\u001b[32;1m\u001b[1;3mI have found the live score information for the England vs India 1st Test match.\n",
      "Final Answer: The live score for the England vs India 1st Test match is currently 18:34 Local Time, 17:34 GMT, 23:04 IST with India in a strong position.\u001b[0m\n",
      "\n",
      "\u001b[1m> Finished chain.\u001b[0m\n",
      "{'input': 'England vs India, 1st Test - Live Cricket Score', 'output': 'The live score for the England vs India 1st Test match is currently 18:34 Local Time, 17:34 GMT, 23:04 IST with India in a strong position.'}\n"
     ]
    }
   ],
   "source": [
    "# Step 5: Invoke\n",
    "response = agent_executor.invoke({\"input\":\"England vs India, 1st Test - Live Cricket Score\"})\n",
    "print(response)"
   ]
  },
  {
   "cell_type": "code",
   "execution_count": 39,
   "id": "9207165e",
   "metadata": {},
   "outputs": [
    {
     "data": {
      "text/plain": [
       "'The live score for the England vs India 1st Test match is currently 18:34 Local Time, 17:34 GMT, 23:04 IST with India in a strong position.'"
      ]
     },
     "execution_count": 39,
     "metadata": {},
     "output_type": "execute_result"
    }
   ],
   "source": [
    "response['output']"
   ]
  },
  {
   "cell_type": "code",
   "execution_count": null,
   "id": "b00759b4",
   "metadata": {},
   "outputs": [],
   "source": []
  }
 ],
 "metadata": {
  "kernelspec": {
   "display_name": "env",
   "language": "python",
   "name": "python3"
  },
  "language_info": {
   "codemirror_mode": {
    "name": "ipython",
    "version": 3
   },
   "file_extension": ".py",
   "mimetype": "text/x-python",
   "name": "python",
   "nbconvert_exporter": "python",
   "pygments_lexer": "ipython3",
   "version": "3.12.4"
  }
 },
 "nbformat": 4,
 "nbformat_minor": 5
}
